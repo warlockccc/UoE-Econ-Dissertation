{
 "cells": [
  {
   "cell_type": "code",
   "execution_count": null,
   "id": "f362a750-777e-4311-a62c-06956b5f1842",
   "metadata": {},
   "outputs": [],
   "source": [
    "using LinearAlgebra, Statistics\n",
    "using Distributions, Plots, QuantEcon, Interpolations, Parameters\n",
    "using NLsolve, Random\n",
    "using Expectations\n",
    "using DataFrames\n",
    "using StatsBase\n",
    "using JLD"
   ]
  },
  {
   "cell_type": "code",
   "execution_count": null,
   "id": "d7d6df13-6e3c-473f-8dd1-7d8a692f3a66",
   "metadata": {},
   "outputs": [],
   "source": [
    "Random.seed!(42)\n",
    "\n",
    "vfi!(ls)\n",
    "\n",
    "wv0_bar = zeros(ls.h_grid_size)\n",
    "\n",
    "for ih in 1:ls.h_grid_size\n",
    "    for iw in ls.w_grid_size:-1:1\n",
    "        if ls.policy_v[iw,ih] == 1\n",
    "            wv0_bar[ih] = ls.w_grid[iw]\n",
    "        end\n",
    "    end\n",
    "end\n",
    "\n",
    "w_bar = zeros(ls.I_grid_size, ls.h_grid_size)\n",
    "\n",
    "for iI in 1:ls.I_grid_size\n",
    "    for ih in 1:ls.h_grid_size\n",
    "        aimvb = ls.Vb[iI,ih]\n",
    "        \n",
    "        for iw in ls.w_grid_size:-1:1\n",
    "            currentwage = ls.w_grid[iw]\n",
    "            \n",
    "            if currentwage * ls.h_grid[ih] < ls.I_grid[iI] * 0.7\n",
    "                \n",
    "                if ls.V[iw,ih] > aimvb || ls.V[iw,ih] == aimvb\n",
    "                    w_bar[iI,ih] = currentwage\n",
    "                end\n",
    "                \n",
    "            else\n",
    "                \n",
    "                if ls.policy_v[iw,ih] == 1\n",
    "                    w_bar[iI,ih] = currentwage\n",
    "                end\n",
    "                \n",
    "            end\n",
    "        end        \n",
    "    end\n",
    "end\n",
    "\n",
    "save(\"V.jld\", \"data\", lsp.V)\n",
    "save(\"V0.jld\", \"data\", lsp.V0)\n",
    "save(\"Vb.jld\", \"data\", lsp.Vb)\n",
    "save(\"policyv.jld\", \"data\", lsp.policy_v)\n",
    "save(\"policyv0.jld\", \"data\", lsp.policy_v0)\n",
    "save(\"policyvb.jld\", \"data\", lsp.policy_vb)\n",
    "save(\"w_grid.jld\", \"data\", lsp.w_grid)\n",
    "save(\"wv0bar.jld\", \"data\", lsp_wv0_bar)\n",
    "save(\"wbar.jld\", \"data\", lsp_w_bar)"
   ]
  }
 ],
 "metadata": {
  "kernelspec": {
   "display_name": "Julia 1.7.1",
   "language": "julia",
   "name": "julia-1.7"
  },
  "language_info": {
   "file_extension": ".jl",
   "mimetype": "application/julia",
   "name": "julia",
   "version": "1.7.1"
  }
 },
 "nbformat": 4,
 "nbformat_minor": 5
}
